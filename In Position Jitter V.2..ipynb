{
 "cells": [
  {
   "cell_type": "markdown",
   "id": "122f2a3b",
   "metadata": {
    "hide_input": false
   },
   "source": [
    "# In-Position Jitter Test\n",
    "This script will handle the required post-processing of data for the in-position jitter test, specified in ASME B5.64. The script will input the csv file generated in Automation 1 for this test and return a completed In-Position Jitter Test Report.\n",
    "\n",
    "There is also the option to have this script run an in-position jitter test directly."
   ]
  },
  {
   "cell_type": "code",
   "execution_count": 1,
   "id": "8a08bba3",
   "metadata": {
    "hide_input": true,
    "init_cell": true,
    "scrolled": false
   },
   "outputs": [
    {
     "data": {
      "text/html": [
       "<style>.custom-font { font-family: 'Bold', sans-serif; font-size: 16px; color: black; font-weight: bold }</style>"
      ],
      "text/plain": [
       "<IPython.core.display.HTML object>"
      ]
     },
     "metadata": {},
     "output_type": "display_data"
    },
    {
     "data": {
      "text/html": [
       "<p class='custom-font'>System Information:</p>"
      ],
      "text/plain": [
       "<IPython.core.display.HTML object>"
      ]
     },
     "metadata": {},
     "output_type": "display_data"
    },
    {
     "data": {
      "application/vnd.jupyter.widget-view+json": {
       "model_id": "401ae0626a894f82b78447394e6a4c1b",
       "version_major": 2,
       "version_minor": 0
      },
      "text/plain": [
       "Text(value='ANT130XY', description='Model Number:', style=TextStyle(description_width='initial'))"
      ]
     },
     "metadata": {},
     "output_type": "display_data"
    },
    {
     "data": {
      "application/vnd.jupyter.widget-view+json": {
       "model_id": "cca3b9aed0ff48feae7bc9abfae4b7ba",
       "version_major": 2,
       "version_minor": 0
      },
      "text/plain": [
       "Text(value='XX', description='Serial Number:', style=TextStyle(description_width='initial'))"
      ]
     },
     "metadata": {},
     "output_type": "display_data"
    },
    {
     "data": {
      "application/vnd.jupyter.widget-view+json": {
       "model_id": "c8a7ce4604c141bb834ca900f78ec29d",
       "version_major": 2,
       "version_minor": 0
      },
      "text/plain": [
       "Text(value='Automation 1', description='Controller Name:', style=TextStyle(description_width='initial'))"
      ]
     },
     "metadata": {},
     "output_type": "display_data"
    },
    {
     "data": {
      "text/html": [
       "<p class='custom-font'>Measurement Information:</p>"
      ],
      "text/plain": [
       "<IPython.core.display.HTML object>"
      ]
     },
     "metadata": {},
     "output_type": "display_data"
    },
    {
     "data": {
      "application/vnd.jupyter.widget-view+json": {
       "model_id": "95ac20f05a5d4372abce8526a98547ac",
       "version_major": 2,
       "version_minor": 0
      },
      "text/plain": [
       "Text(value='X = 0 mm, Y = 0 mm, Z = 35 mm', description='Functional Point:', style=TextStyle(description_width…"
      ]
     },
     "metadata": {},
     "output_type": "display_data"
    },
    {
     "data": {
      "application/vnd.jupyter.widget-view+json": {
       "model_id": "a1926fa515f544ea95fa4b0788194b14",
       "version_major": 2,
       "version_minor": 0
      },
      "text/plain": [
       "Text(value='', description='System Location:', style=TextStyle(description_width='initial'))"
      ]
     },
     "metadata": {},
     "output_type": "display_data"
    },
    {
     "data": {
      "application/vnd.jupyter.widget-view+json": {
       "model_id": "1bdf1217cf8f433eabd7d25d92cf79fb",
       "version_major": 2,
       "version_minor": 0
      },
      "text/plain": [
       "Text(value='0 kg', description='Load:')"
      ]
     },
     "metadata": {},
     "output_type": "display_data"
    },
    {
     "data": {
      "application/vnd.jupyter.widget-view+json": {
       "model_id": "cede8e97fff94553862e1b0c73625a21",
       "version_major": 2,
       "version_minor": 0
      },
      "text/plain": [
       "IntText(value=20, description='Temperature ($^\\\\circ$C):', style=DescriptionStyle(description_width='initial')…"
      ]
     },
     "metadata": {},
     "output_type": "display_data"
    },
    {
     "data": {
      "application/vnd.jupyter.widget-view+json": {
       "model_id": "ec5b4475d52b4c01ba277651d24b7ab7",
       "version_major": 2,
       "version_minor": 0
      },
      "text/plain": [
       "Text(value='', description='Comments:')"
      ]
     },
     "metadata": {},
     "output_type": "display_data"
    },
    {
     "data": {
      "text/html": [
       "<p class='custom-font'>Measurement Parameters:</p>"
      ],
      "text/plain": [
       "<IPython.core.display.HTML object>"
      ]
     },
     "metadata": {},
     "output_type": "display_data"
    },
    {
     "data": {
      "text/html": [
       "<style>.custom-font2 { font-family: 'Bold', sans-serif; font-size: 14px; color: red; font-weight: bold }</style>"
      ],
      "text/plain": [
       "<IPython.core.display.HTML object>"
      ]
     },
     "metadata": {},
     "output_type": "display_data"
    },
    {
     "data": {
      "text/html": [
       "<p class='custom-font2'>**Fields in this section are critical when running the Jitter test and when importing/post-processing data:</p>"
      ],
      "text/plain": [
       "<IPython.core.display.HTML object>"
      ]
     },
     "metadata": {},
     "output_type": "display_data"
    },
    {
     "data": {
      "application/vnd.jupyter.widget-view+json": {
       "model_id": "e972951f63e24fd3912c3903d61a0c22",
       "version_major": 2,
       "version_minor": 0
      },
      "text/plain": [
       "Dropdown(description='Units (Must match controller):', index=2, options=(('nm', 'nm'), ('µm', 'um'), ('mm', 'm…"
      ]
     },
     "metadata": {},
     "output_type": "display_data"
    },
    {
     "data": {
      "application/vnd.jupyter.widget-view+json": {
       "model_id": "d1ab1fce7fb44f7aa0537665cd468708",
       "version_major": 2,
       "version_minor": 0
      },
      "text/plain": [
       "BoundedFloatText(value=0.00254, description='Sensitivity (Units/V)', style=DescriptionStyle(description_width=…"
      ]
     },
     "metadata": {},
     "output_type": "display_data"
    },
    {
     "data": {
      "application/vnd.jupyter.widget-view+json": {
       "model_id": "695a7206c4174ae9b8727ef7e63f4c65",
       "version_major": 2,
       "version_minor": 0
      },
      "text/plain": [
       "Text(value='', description='Axis:', style=TextStyle(description_width='initial'))"
      ]
     },
     "metadata": {},
     "output_type": "display_data"
    },
    {
     "data": {
      "application/vnd.jupyter.widget-view+json": {
       "model_id": "9577fd655358453da582ba6eb5d9569b",
       "version_major": 2,
       "version_minor": 0
      },
      "text/plain": [
       "Text(value='Capacitance Probe', description='Sensor Name:', style=TextStyle(description_width='initial'))"
      ]
     },
     "metadata": {},
     "output_type": "display_data"
    },
    {
     "data": {
      "application/vnd.jupyter.widget-view+json": {
       "model_id": "b5908fdd05c84a41933d9d5e0302fc50",
       "version_major": 2,
       "version_minor": 0
      },
      "text/plain": [
       "Dropdown(description='Feedback Signal:', options=(('Capacitance Probe', <mode.ai0: 14>), ('Internal Feedback',…"
      ]
     },
     "metadata": {},
     "output_type": "display_data"
    },
    {
     "data": {
      "application/vnd.jupyter.widget-view+json": {
       "model_id": "ea5ce53d1af8487f88491fbb40c3bf83",
       "version_major": 2,
       "version_minor": 0
      },
      "text/plain": [
       "Text(value='None', description='Cap Probe Axis:', style=TextStyle(description_width='initial'))"
      ]
     },
     "metadata": {},
     "output_type": "display_data"
    },
    {
     "data": {
      "application/vnd.jupyter.widget-view+json": {
       "model_id": "9c0b0199067d4891825251cd4df33f0e",
       "version_major": 2,
       "version_minor": 0
      },
      "text/plain": [
       "Dropdown(description='Sample Rate:', options=(('1 kHz', 1000), ('10 kHz', 10000), ('20 kHz', 20000), ('100 kHz…"
      ]
     },
     "metadata": {},
     "output_type": "display_data"
    },
    {
     "data": {
      "application/vnd.jupyter.widget-view+json": {
       "model_id": "5c59214a244a41f0a260371de8853074",
       "version_major": 2,
       "version_minor": 0
      },
      "text/plain": [
       "FloatText(value=10.0, description='Test Time (sec):', style=DescriptionStyle(description_width='initial'))"
      ]
     },
     "metadata": {},
     "output_type": "display_data"
    },
    {
     "data": {
      "application/vnd.jupyter.widget-view+json": {
       "model_id": "7d8a73df83334f56b819c3f5aa0af6fb",
       "version_major": 2,
       "version_minor": 0
      },
      "text/plain": [
       "Dropdown(description='Direction to sensor:', options=(('Positive', <mode.positive_direction: 3>), ('Negative',…"
      ]
     },
     "metadata": {},
     "output_type": "display_data"
    },
    {
     "data": {
      "application/vnd.jupyter.widget-view+json": {
       "model_id": "46e620f28e8c4ac6869f01c55eaec52e",
       "version_major": 2,
       "version_minor": 0
      },
      "text/plain": [
       "LoadedButton(description='Select File', layout=Layout(width='20%'), style=ButtonStyle())"
      ]
     },
     "metadata": {},
     "output_type": "display_data"
    },
    {
     "data": {
      "application/vnd.jupyter.widget-view+json": {
       "model_id": "546c61c2126441eba702dbc89c7efa44",
       "version_major": 2,
       "version_minor": 0
      },
      "text/plain": [
       "LoadedButton(description='Run Jitter Test', layout=Layout(width='20%'), style=ButtonStyle())"
      ]
     },
     "metadata": {},
     "output_type": "display_data"
    },
    {
     "data": {
      "application/vnd.jupyter.widget-view+json": {
       "model_id": "010361c26af94f2ebbcd29783e2e5766",
       "version_major": 2,
       "version_minor": 0
      },
      "text/plain": [
       "Button(description='Import Data', layout=Layout(height='80%', width='40%'), style=ButtonStyle())"
      ]
     },
     "metadata": {},
     "output_type": "display_data"
    }
   ],
   "source": [
    "#Updated by TB 01/08/2024\n",
    "##Added a dropdown to be able to select cap probe or internal feedback\n",
    "##Removed dropdown for test axis to be able to key in axis name to match customer MCD\n",
    "##Made all relevant UI cells initialization cells\n",
    "\n",
    "import pandas as pd\n",
    "from IPython.display import Javascript, display, HTML\n",
    "from InPositionJitterCollection import jitter\n",
    "import ipywidgets as widgets\n",
    "from tkinter import Tk, filedialog\n",
    "from traitlets import traitlets\n",
    "import automation1 as a1\n",
    "import sys\n",
    "import matplotlib.pyplot as plt\n",
    "import numpy as np\n",
    "from fpdf import FPDF\n",
    "import matplotlib.image as image\n",
    "import time\n",
    "import copy\n",
    "import scipy.signal as signal\n",
    "import scipy.integrate as integrate\n",
    "\n",
    "sys.path.append('../move-and-settle')\n",
    "\n",
    "#Reach to get AerotechFormat module\n",
    "\n",
    "\n",
    "\n",
    "sys.path.append('../')\n",
    "import a1data\n",
    "from AerotechFormat import AerotechFormat\n",
    "\n",
    "\n",
    "#Use this class to have buttons store data\n",
    "class LoadedButton(widgets.Button):\n",
    "    #Button that can hold a value\n",
    "    def __init__(self, value = None, *args, **kwargs):\n",
    "        super(LoadedButton,self).__init__(*args, **kwargs)\n",
    "        #Create value attribute\n",
    "        self.add_traits(value = traitlets.Any(value))\n",
    "        \n",
    "\n",
    "        \n",
    "#Front End Widgets\n",
    "#print('System Information \\n')\n",
    "custom_style = \"<style>.custom-font { font-family: 'Bold', sans-serif; font-size: 16px; color: black; font-weight: bold }</style>\"\n",
    "\n",
    "display(HTML(custom_style))\n",
    "\n",
    "sysinfo = \"System Information:\"\n",
    "\n",
    "display(HTML(f\"<p class='custom-font'>{sysinfo}</p>\"))\n",
    "\n",
    "Type_w = widgets.Text(description = 'System Type:', value = \"Linear\")\n",
    "ModelNumber_w = widgets.Text(description = \"Model Number:\", value = \"ANT130XY\", style= {'description_width': 'initial'}) #System model number/name\n",
    "SerialNumber_w = widgets.Text(\n",
    "    value = \"XX\", #System serial number\n",
    "    description = \"Serial Number:\",\n",
    "    style= {'description_width': 'initial'}\n",
    ")\n",
    "MaxTravel_w = widgets.Text(\n",
    "    value = \"60 mm\", #System travel length\n",
    "    description = \"Max Travel Length:\",\n",
    "    style= {'description_width': 'initial'}\n",
    ")\n",
    "MaxVelocity_w = widgets.Text(\n",
    "    value = \"15 mm/s\", #System max velocity\n",
    "    description = \"Maximum Velocity:\",\n",
    "    style= {'description_width': 'initial'}\n",
    ")\n",
    "ControllerName_w = widgets.Text(\n",
    "    value = \"Automation 1\",\n",
    "    description = \"Controller Name:\",\n",
    "    style= {'description_width': 'initial'}\n",
    ")\n",
    "\n",
    "display(ModelNumber_w,SerialNumber_w,ControllerName_w)\n",
    "\n",
    "#print('Measurement Information \\n')\n",
    "measinfo = \"Measurement Information:\"\n",
    "\n",
    "display(HTML(f\"<p class='custom-font'>{measinfo}</p>\"))\n",
    "\n",
    "FunctionalPoint_w = widgets.Text(\n",
    "    value = \"X = 0 mm, Y = 0 mm, Z = 35 mm\", #[X,Y,Z], Location of the functional point for the test\n",
    "    description = \"Functional Point:\",\n",
    "    style= {'description_width': 'initial'}\n",
    ")\n",
    "SystemLocation_w = widgets.Text(\n",
    "    description = \"System Location:\",\n",
    "    style= {'description_width': 'initial'}\n",
    ")\n",
    "Load_w = widgets.Text(\n",
    "    description = \"Load:\",\n",
    "    value = \"0 kg\"\n",
    ")\n",
    "PreTestConditions_w = widgets.Text(\n",
    "    description = \"Pre-test Conditions:\",\n",
    "    style= {'description_width': 'initial'}\n",
    ")\n",
    "Temperature_w = widgets.IntText(\n",
    "    description = \"Temperature ($^\\circ$C):\",\n",
    "    style= {'description_width': 'initial'},\n",
    "    value = 20,\n",
    ")\n",
    "#DAS_w = widgets.Text(\n",
    "    #description = \"Data Aquisition System:\",\n",
    "    #style= {'description_width': 'initial'}\n",
    "#)\n",
    "\n",
    "Comments_w = widgets.Text(\n",
    "    description = \"Comments:\"\n",
    ")\n",
    "display(FunctionalPoint_w, SystemLocation_w, Load_w,\n",
    "       Temperature_w, Comments_w)\n",
    "\n",
    "\n",
    "#print('Measurement Parameters\\n')\n",
    "measparam = \"Measurement Parameters:\"\n",
    "\n",
    "display(HTML(f\"<p class='custom-font'>{measparam}</p>\"))\n",
    "\n",
    "warning_style = \"<style>.custom-font2 { font-family: 'Bold', sans-serif; font-size: 14px; color: red; font-weight: bold }</style>\"\n",
    "\n",
    "display(HTML(warning_style))\n",
    "\n",
    "warning = \"**Fields in this section are critical when running the Jitter test and when importing/post-processing data:\"\n",
    "\n",
    "display(HTML(f\"<p class='custom-font2'>{warning}</p>\"))\n",
    "\n",
    "#Parameter imports are not quite working yet\n",
    "\n",
    "##Option to upload Measurement parameters directly\n",
    "#def selectParams(b):\n",
    "#    root = Tk()\n",
    "#    root.withdraw()                                        # Hide the main window.\n",
    "#    root.call('wm', 'attributes', '.', '-topmost', True)   # Raise the root to the top of all windows.\n",
    "#    b.files = filedialog.askopenfilename(multiple=False)    # Selected file will be set button's file attribute.\n",
    "#    b.value = b.files\n",
    "#    print(\"Parameters Read\")\n",
    "\n",
    "#ParamPath = LoadedButton(\n",
    "#    description = \"Select Parameters\",\n",
    "#    style= {'description_width': 'initial'},\n",
    "#)\n",
    "\n",
    "#ParamPath.on_click(selectParams)\n",
    "\n",
    "#display(ParamPath)\n",
    "    \n",
    "\n",
    "\n",
    "Units_w = widgets.Dropdown(options = [('nm','nm'), ('µm','um'),('mm', 'mm'),('m', 'm'),('deg','deg')], \n",
    "                           description = \"Units (Must match controller):\",\n",
    "                           style= {'description_width': 'initial'},\n",
    "                           value = 'mm')\n",
    "Sensitivity = widgets.BoundedFloatText(\n",
    "    description = 'Sensitivity (Units/V)',\n",
    "    min = 0,\n",
    "    value = 0.00254,\n",
    "    style= {'description_width': 'initial'}\n",
    ")\n",
    "Axis = widgets.Text(\n",
    "    description = 'Axis:',\n",
    "    options = '',\n",
    "    style= {'description_width': 'initial'}\n",
    ")\n",
    "ProbeAxis_w = widgets.Text(\n",
    "    description = \"Cap Probe Axis:\",\n",
    "    style= {'description_width': 'initial'},\n",
    "    value = 'None'\n",
    ")\n",
    "Signal_w = widgets.Dropdown(\n",
    "    description = \"Feedback Signal:\",\n",
    "    style= {'description_width': 'initial'},\n",
    "    options = ((\"Capacitance Probe\", a1data.mode.ai0),(\"Internal Feedback\",a1data.mode.pos_fbk))\n",
    ")\n",
    "Sensor = widgets.Text(\n",
    "    description = \"Sensor Name:\",\n",
    "    style= {'description_width': 'initial'},\n",
    "    value = \"Capacitance Probe\"\n",
    ")\n",
    "SamplingRate_w= widgets.Dropdown(\n",
    "    description = \"Sample Rate:\",\n",
    "    options = [('1 kHz',1000), ('10 kHz', 10000) , ('20 kHz', 20000), ('100 kHz', 100000), ('200 kHz',200000)] #Available sample rates in Automation 1 \n",
    ")\n",
    "TestTime_w = widgets.FloatText(\n",
    "    description = \"Test Time (sec):\",\n",
    "    style= {'description_width': 'initial'},\n",
    "    value = 10\n",
    ")\n",
    "Direction_w = widgets.Dropdown(\n",
    "    description = \"Direction to sensor:\",\n",
    "    style= {'description_width': 'initial'},\n",
    "    options = ((\"Positive\", a1data.mode.positive_direction),(\"Negative\",a1data.mode.negative_direction))\n",
    ")\n",
    "TestPath = LoadedButton(\n",
    "    description = \"Run Jitter Test\",\n",
    "    layout = widgets.Layout(width = '20%')\n",
    ")\n",
    "CSVPath = LoadedButton(\n",
    "    description = \"Select File\",\n",
    "    style= {'description_width': 'initial'},\n",
    "    layout = TestPath.layout\n",
    ")\n",
    "import_data_button = widgets.Button(\n",
    "    description = 'Import Data',\n",
    "    layout = widgets.Layout(width = '40%', height = '80%')\n",
    ")\n",
    "\n",
    "display(Units_w, Sensitivity, Axis, Sensor, Signal_w, ProbeAxis_w, SamplingRate_w, TestTime_w, Direction_w)\n",
    "\n",
    "\n",
    "display(CSVPath, TestPath, import_data_button)\n",
    "\n",
    "\n",
    "Comments = \"\" #Initialize Comments so it isn't a local variable\n",
    "\n",
    "def selectFile(b):\n",
    "    root = Tk()\n",
    "    root.withdraw()                                        # Hide the main window.\n",
    "    root.call('wm', 'attributes', '.', '-topmost', True)   # Raise the root to the top of all windows.\n",
    "    b.files = filedialog.askopenfilename(multiple=False)    # Selected file will be set button's file attribute.\n",
    "    b.value = pd.read_csv(r'{}'.format(b.files))\n",
    "    \n",
    "\n",
    "    CSVPath.description = 'File Selected'\n",
    "    \n",
    "def jittertest(b):\n",
    "    print(\"Running jitter test...\")\n",
    "    controller = a1.Controller.connect()\n",
    "    controller.start()\n",
    "    \n",
    "    for axis_index in range(0,1):\n",
    "            \n",
    "        # Create status item configuration object\n",
    "        status_item_configuration = a1.StatusItemConfiguration()\n",
    "            \n",
    "        # Add this axis status word to object\n",
    "        status_item_configuration.axis.add(a1.AxisStatusItem.AxisStatus, axis_index)\n",
    "\n",
    "        # Get axis status word from controller\n",
    "        result = controller.runtime.status.get_status_items(status_item_configuration)\n",
    "        axis_status = int(result.axis.get(a1.AxisStatusItem.AxisStatus, axis_index).value)\n",
    "\n",
    "        # Check NotVirtual bit of axis status word\n",
    "        if (axis_status & 1<<13) == 0:\n",
    "            controller = a1.Controller.connect_usb()\n",
    "    global ipj\n",
    "    ipj = jitter(Axis.value, SamplingRate_w.value, TestTime_w.value, Direction_w.value, Sensitivity.value, ProbeAxis_w.value, units = Units_w.value)\n",
    "    ipj.test(controller)\n",
    "    b.value = ipj.to_dataframe()\n",
    "    display(Javascript(\"Jupyter.notebook.execute_cells([2])\"))\n",
    "    print('In-Position Jitter test completed')\n",
    "    \n",
    "\n",
    "                    \n",
    "CSVPath.on_click(selectFile)\n",
    "TestPath.on_click(jittertest)\n",
    "\n",
    "\n",
    "def import_data(b):\n",
    "    global ipj, Comments\n",
    "    ipj = jitter(Axis.value, SamplingRate_w.value, TestTime_w.value, Direction_w.value, Sensitivity.value,ProbeAxis_w.value, units = Units_w.value)\n",
    "    \n",
    "#    #Update Parameters if a file exists\n",
    "#    if ParamPath.value is not None:\n",
    "#        ipj.import_params(ParamPath.value)\n",
    "    \n",
    "    if CSVPath.value is not None:\n",
    "        ipj.populate(file = CSVPath.files)\n",
    "        CSVPath.value = None\n",
    "        CSVPath.description = \"Select File\"\n",
    "    elif TestPath.value is not None:\n",
    "        ipj.populate(dataframe = TestPath.value)\n",
    "        TestPath.value = None\n",
    "    else:\n",
    "        raise ValueError('Please either run a jitter test or select a CSV file')\n",
    "    print('Information successfully imported')\n",
    "\n",
    "    display(Javascript(\"Jupyter.notebook.execute_cells([2,3])\"))\n",
    "    Comments = Comments_w.value\n",
    "    \n",
    "import_data_button.on_click(import_data)\n"
   ]
  },
  {
   "cell_type": "code",
   "execution_count": null,
   "id": "e2503b77",
   "metadata": {
    "hide_input": true,
    "scrolled": false,
    "slideshow": {
     "slide_type": "-"
    }
   },
   "outputs": [],
   "source": [
    "#print(\"Data Filters\")\n",
    "custom_style = \"<style>.custom-font { font-family: 'Bold', sans-serif; font-size: 16px; color: black; font-weight: bold }</style>\"\n",
    "\n",
    "display(HTML(custom_style))\n",
    "\n",
    "filters = \"Data Filtering:\"\n",
    "\n",
    "display(HTML(f\"<p class='custom-font'>{filters}</p>\"))\n",
    "\n",
    "reset = widgets.Button(\n",
    "    description = \"Reset Filters Applied\"\n",
    ")\n",
    "display(reset)\n",
    "print(\"Choose which data signal to filter, and then choose the filters to be applied\")\n",
    "mode = widgets.Dropdown(\n",
    "    description = \"Data Signal:\",\n",
    "    options = [(\"Position Feedback\",a1data.mode.pos_fbk), (\"Analog Input 0\", a1data.mode.ai0)]\n",
    ")\n",
    "remove_offset = widgets.Button(\n",
    "    description = \"Remove DC Offset\",\n",
    "    layout = widgets.Layout(width = '40%', height = '80%')\n",
    ")\n",
    "\n",
    "end_norm = widgets.Button(\n",
    "    description = \"Endpoint Linear Normalization\",\n",
    "    layout = widgets.Layout(width = '40%', height = '80%')\n",
    ")\n",
    "\n",
    "square_norm = widgets.Button(\n",
    "    description = \"Least-Squares Linear Normalization\",\n",
    "    style= {'description_width': 'initial'},\n",
    "    layout = widgets.Layout(width = '40%', height = '80%')\n",
    ")\n",
    "display(mode, remove_offset, end_norm, square_norm)\n",
    "print(\"Butterworth Filter Parameters:\")\n",
    "omega_c = widgets.BoundedFloatText(\n",
    "    description = \"Cut-off Frequency (Hz):\",\n",
    "    style= {'description_width': 'initial'},\n",
    "    value = 250,\n",
    "    min = 0,\n",
    "    max = 1000,\n",
    ")\n",
    "order = widgets.BoundedIntText(\n",
    "    description = \"Order:\",\n",
    "    value = 2,\n",
    "    min = 1,\n",
    ")\n",
    "type_w = widgets.Dropdown(\n",
    "    description = \"Type:\",\n",
    "    options = [(\"High Pass\",'high'),(\"Low Pass\",'low')],\n",
    "    value = 'low'\n",
    ")\n",
    "butter = widgets.Button(\n",
    "    description = \"Apply Filter\"\n",
    ")\n",
    "display(omega_c,order,type_w,butter)\n",
    "\n",
    "#Button Functions\n",
    "def reset_func(b):\n",
    "    global ipj, Comments\n",
    "    ipj.pos_fbk = pos_fbk_copy\n",
    "    ipj.ai0 = ai0_copy\n",
    "    Comments = Comments_w.value\n",
    "    print(\"Filters Reset\")\n",
    "    \n",
    "def remove_offset_func(b):\n",
    "    global ipj, Comments\n",
    "    ipj.remove_offset(mode.value)\n",
    "    Comments += \"\\nDC offset removed\"\n",
    "    print(\"DC offset removed\")\n",
    "\n",
    "def end_norm_func(b):\n",
    "    global ipj, Comments\n",
    "    ipj.endpoint_linear_norm(mode.value)\n",
    "    Comments += \"\\nEndpoint Linear Normalization\"\n",
    "    \n",
    "def square_norm_func(b):\n",
    "    global ipj, Comments\n",
    "    ipj.least_squares_linear_norm(mode.value)\n",
    "    Comments += \"\\nLeast Squares Linear Normalization\"\n",
    "    \n",
    "def butter_func(b):\n",
    "    global ipj, Comments\n",
    "    pos_fbk_copy = copy.deepcopy(ipj.pos_fbk)\n",
    "    ai0_copy = copy.deepcopy(ipj.ai0)\n",
    "    ipj.butter(mode.value, omega_c.value, order.value, type_w.value)\n",
    "    Comments += '\\n{} pass butterworth filter \\nwith a {} Hz cut-off frequency \\napplied'.format(type_w.value, omega_c.value)\n",
    "    print(\"Butterworth Filter Applied\")\n",
    "    display(Javascript(\"Jupyter.notebook.execute_cells([3])\"))\n",
    "    \n",
    "#Button Actions\n",
    "reset.on_click(reset_func)\n",
    "remove_offset.on_click(remove_offset_func)\n",
    "end_norm.on_click(end_norm_func)\n",
    "square_norm.on_click(square_norm_func)\n",
    "butter.on_click(butter_func)\n"
   ]
  },
  {
   "cell_type": "code",
   "execution_count": null,
   "id": "f4dc84cb",
   "metadata": {
    "hide_input": true,
    "scrolled": false
   },
   "outputs": [],
   "source": [
    "#print(\"Plotting and Data Analysis\")\n",
    "custom_style = \"<style>.custom-font { font-family: 'Bold', sans-serif; font-size: 16px; color: black; font-weight: bold }</style>\"\n",
    "\n",
    "display(HTML(custom_style))\n",
    "\n",
    "analysis = \"Plotting and Data Analysis:\"\n",
    "\n",
    "display(HTML(f\"<p class='custom-font'>{analysis}</p>\"))\n",
    "\n",
    "low_bound = widgets.BoundedFloatText(\n",
    "    description = \"The low bound for the plot time window (sec):\",\n",
    "    min = 0,\n",
    "    value = 0,\n",
    "    style= {'description_width': 'initial'},\n",
    "    layout = widgets.Layout(width = '35%')\n",
    ")\n",
    "\n",
    "high_bound = widgets.BoundedFloatText(\n",
    "    description = \"The high bound for the plot time window (sec):\",\n",
    "    min = low_bound.value,\n",
    "    value = 1,\n",
    "    style= {'description_width': 'initial'},\n",
    "    layout = widgets.Layout(width = '35%')\n",
    ")\n",
    "\n",
    "CRMS_freq = widgets.BoundedFloatText(\n",
    "    description = \"Max Frequency for the CRMS plot (Hz):\",\n",
    "    min = 0,\n",
    "    max = 1000,\n",
    "    value = 200,\n",
    "    style= {'description_width': 'initial'},\n",
    "\n",
    ")\n",
    "\n",
    "plot_data = widgets.Button(\n",
    "    description = \"Plot Data\"\n",
    ")\n",
    "\n",
    "display(low_bound, high_bound, CRMS_freq, plot_data)\n",
    "\n",
    "def plot_data_func(b):\n",
    "    display(Javascript(\"Jupyter.notebook.execute_cells([4,5])\"))\n",
    "    \n",
    "plot_data.on_click(plot_data_func)\n",
    "\n",
    "    "
   ]
  },
  {
   "cell_type": "code",
   "execution_count": null,
   "id": "8c520681",
   "metadata": {
    "hide_input": true,
    "scrolled": false
   },
   "outputs": [],
   "source": [
    "#Data Analysis\n",
    "data_dict = ipj.data_analysis(mode.value, [low_bound.value, high_bound.value])\n",
    "#Plotting the Jitter Data\n",
    "plt.rcParams.update({'font.size': 40})\n",
    "plt.figure(1, figsize = (20,10))\n",
    "fig1 = plt.plot(data_dict['t_window'],data_dict['d_window'], '-r')\n",
    "\n",
    "plt.xlabel('Time (seconds)')\n",
    "plt.ylabel('Jitter ({})'.format(Units_w.value))\n",
    "           \n",
    "print('The sample standard deviation is {:.3e} {}'.format(data_dict['stdev'], Units_w.value))\n",
    "print('The peak-to-peak in-position jitter is {:.3e} {}'.format(data_dict['peak'], Units_w.value))\n",
    "           \n",
    "plt.figure(3, figsize = (20,10))\n",
    "           \n",
    "plt.plot(data_dict['freq'],data_dict['CRMS'])\n",
    "plt.xlabel('Frequency Hz')\n",
    "plt.ylabel('Cumulative RMS ({})'.format(Units_w.value))\n",
    "\n",
    "#Adjust frequency window for viewing the CRMS data\n",
    "plt.xlim(0, CRMS_freq.value)\n",
    "\n"
   ]
  },
  {
   "cell_type": "code",
   "execution_count": null,
   "id": "a28173f6",
   "metadata": {
    "hide_input": true
   },
   "outputs": [],
   "source": [
    "#Output to pdf\n",
    "custom_style = \"<style>.custom-font { font-family: 'Bold', sans-serif; font-size: 16px; color: black; font-weight: bold }</style>\"\n",
    "\n",
    "display(HTML(custom_style))\n",
    "\n",
    "pdf = \"Generate PDF and CSV:\"\n",
    "\n",
    "display(HTML(f\"<p class='custom-font'>{pdf}</p>\"))\n",
    "\n",
    "gen_PDF_button = widgets.Button(\n",
    "    description = 'Generate PDF'\n",
    ")\n",
    "\n",
    "Units = Units_w.value\n",
    "def gen_PDF(b):\n",
    "    # This cell of the script will be used to generate a pdf in the AerotechFooter Format\n",
    "    global fig\n",
    "    \n",
    "    plt.rcParams.update({'font.size': 6})\n",
    "    fig, ax1, ax2, ax3, ax4 = AerotechFormat.makeTemplate()\n",
    "\n",
    "    #Upper Jitter Plot\n",
    "    ax1_up = plt.subplot2grid((14, 3),(2,0), rowspan = 3, colspan = 3)\n",
    "    ax1_up.plot(data_dict['t_window'], data_dict['d_window'], '-r')\n",
    "    plt.title('In-Position Jitter vs Time')\n",
    "    plt.ylabel('Jitter ({})'.format(Units))\n",
    "    plt.xlabel('Time (seconds)')\n",
    "\n",
    "    #Lower Jitter Plot\n",
    "    ax1_down = plt.subplot2grid((14,3),(6,0), rowspan = 3, colspan = 3)\n",
    "    ax1_down.plot(data_dict['freq'],data_dict['CRMS'], '-b')\n",
    "    plt.xlabel('Frequency Hz')\n",
    "    plt.ylabel('Cumulative RMS ({})'.format(Units))\n",
    "    plt.title('Cumulative RMS')\n",
    "    plt.xlim(0,CRMS_freq.value)\n",
    "\n",
    "    #Results Text Box\n",
    "    ax2.text(0.02,.8, 'Standard Deviation: {:.3e} {}'.format(data_dict['stdev'], Units), color = 'black', size = 9)\n",
    "    ax2.text(0.02,.725, 'Peak-to-Peak Value: {:.3e} {}'.format(data_dict['peak'], Units), color = 'black', size = 9)\n",
    "\n",
    "    #Comments Text Box\n",
    "    ax3.text(.02, .8, 'Serial Number: {}'.format(SerialNumber_w.value), color = 'black', size = 9)\n",
    "    ax3.text(.02, .725, 'Model Number: {}'.format(ModelNumber_w.value), color = 'black', size = 9)\n",
    "    ax3.text(.02, .65, 'Axis: {}'.format(Axis.value), color = 'black', size = 9)\n",
    "    ax3.text(.02, .575, 'System Location: {}'.format(SystemLocation_w.value), color = 'black', size = 9)\n",
    "    ax3.text(.02, .5, 'Signal: {}'.format(Sensor.value), color = 'black', size = 9)\n",
    "    ax3.text(.02, .425, 'Comments: {}'.format(Comments), color = 'black', size = 6, verticalalignment = 'top')\n",
    "\n",
    "\n",
    "    #Test Conditions Text Box\n",
    "    degree_sign = u'\\N{DEGREE SIGN}'\n",
    "    ax4.text(.02, .8, 'Temperature: {}  {}C'.format(Temperature_w.value, degree_sign), color = 'black', size = 9)\n",
    "    ax4.text(.02, .725, 'Sample Rate: {} Hz'.format(1/ipj.time_array[1]), color = 'black', size = 9)\n",
    "    ax4.text(.02, .65, 'Sample Time: {} seconds'.format(np.max(ipj.time_array) + ipj.time_array[1]), color = 'black', size = 9)\n",
    "    #ax4.text(.02, .725, 'Humidity: XX', color = 'black', size = 9)\n",
    "    #ax4.text(.02, .65, 'Pressure: XX', color = 'black', size = 9)\n",
    "    #ax4.text(.02, .575, 'Base Vibration: XX', color = 'black', size = 9)\n",
    "    #ax4.text(.02, .350, 'Axis: {}'.format(Axis.value), color = 'black', size = 9)\n",
    "    \n",
    "\n",
    "gen_PDF_button.on_click(gen_PDF)\n",
    "\n",
    "display(gen_PDF_button)\n",
    "\n",
    "#Save PDF\n",
    "output_file = widgets.Text(\n",
    "    description = 'File Name:',\n",
    "    value = 'jitter_report.pdf',\n",
    ")\n",
    "\n",
    "export_PDF_button = widgets.Button(\n",
    "    description = 'Save Generated PDF'\n",
    ")\n",
    "\n",
    "\n",
    "def save_PDF(b):\n",
    "    fig.get_figure().savefig(output_file.value)\n",
    "    print('PDF saved')\n",
    "\n",
    "export_PDF_button.on_click(save_PDF)\n",
    "display(output_file, export_PDF_button)\n",
    "\n",
    "#Save CSV Button and Textbox\n",
    "csv_file = widgets.Text(\n",
    "    description = 'CSV Name:',\n",
    "    value = 'ipj.csv'\n",
    ")\n",
    "\n",
    "export_csv_button = widgets.Button(\n",
    "    description = 'Save CSV'\n",
    ")\n",
    "\n",
    "def save_CSV(b):\n",
    "    ipj.write_to_csv(csv_file.value)\n",
    "    print('CSV saved')\n",
    "    \n",
    "export_csv_button.on_click(save_CSV)\n",
    "\n",
    "display(csv_file, export_csv_button)"
   ]
  }
 ],
 "metadata": {
  "celltoolbar": "Initialization Cell",
  "hide_input": true,
  "kernelspec": {
   "display_name": "Python 3 (ipykernel)",
   "language": "python",
   "name": "python3"
  },
  "language_info": {
   "codemirror_mode": {
    "name": "ipython",
    "version": 3
   },
   "file_extension": ".py",
   "mimetype": "text/x-python",
   "name": "python",
   "nbconvert_exporter": "python",
   "pygments_lexer": "ipython3",
   "version": "3.8.10"
  }
 },
 "nbformat": 4,
 "nbformat_minor": 5
}
